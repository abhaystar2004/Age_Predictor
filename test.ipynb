{
 "cells": [
  {
   "cell_type": "code",
   "execution_count": 1,
   "metadata": {},
   "outputs": [],
   "source": [
    "import tensorflow as tf\n",
    "import numpy as np\n",
    "import matplotlib.pyplot as plt"
   ]
  },
  {
   "cell_type": "code",
   "execution_count": 2,
   "metadata": {},
   "outputs": [
    {
     "name": "stdout",
     "output_type": "stream",
     "text": [
      "Found 9790 files belonging to 111 classes.\n"
     ]
    }
   ],
   "source": [
    "import tensorflow as tf\n",
    "\n",
    "\n",
    "# specify the path to your images directory\n",
    "path_to_images = './lab_test_2_dataset'\n",
    "\n",
    "# load the images\n",
    "image_dataset = tf.keras.preprocessing.image_dataset_from_directory(path_to_images, image_size=(32, 32), batch_size=32)"
   ]
  },
  {
   "cell_type": "code",
   "execution_count": 3,
   "metadata": {},
   "outputs": [],
   "source": [
    "image_dataset = image_dataset.map(lambda x, y: (x / 255.0, y))"
   ]
  },
  {
   "cell_type": "code",
   "execution_count": 4,
   "metadata": {},
   "outputs": [
    {
     "data": {
      "text/plain": [
       "array([ 1, 18, 16,  1, 90, 56,  1, 30, 46,  1,  1, 50, 58, 17, 51,  1, 59,\n",
       "       80,  8, 47,  1, 19, 24,  1,  5, 10, 25,  4, 15, 48, 18,  1])"
      ]
     },
     "execution_count": 4,
     "metadata": {},
     "output_type": "execute_result"
    }
   ],
   "source": [
    "image_dataset.as_numpy_iterator().next()[1]"
   ]
  },
  {
   "cell_type": "code",
   "execution_count": null,
   "metadata": {},
   "outputs": [],
   "source": [
    "# display 20 images with their labels\n",
    "\n",
    "plt.figure(figsize=(10, 10))\n",
    "for images, labels in image_dataset.take(1):\n",
    "    for i in range(20):\n",
    "        ax = plt.subplot(4, 5, i + 1)\n",
    "        plt.imshow(images[i].numpy())\n",
    "        plt.title(int(labels[i]))\n",
    "        plt.axis(\"off\")\n"
   ]
  },
  {
   "cell_type": "code",
   "execution_count": 5,
   "metadata": {},
   "outputs": [
    {
     "data": {
      "text/plain": [
       "306"
      ]
     },
     "execution_count": 5,
     "metadata": {},
     "output_type": "execute_result"
    }
   ],
   "source": [
    "len(image_dataset)"
   ]
  },
  {
   "cell_type": "code",
   "execution_count": 6,
   "metadata": {},
   "outputs": [],
   "source": [
    "train_size = int(0.7 * len(image_dataset))\n",
    "val_size = int(0.2 * len(image_dataset)) + 1\n",
    "test_size = int(0.1 * len(image_dataset))"
   ]
  },
  {
   "cell_type": "code",
   "execution_count": 7,
   "metadata": {},
   "outputs": [],
   "source": [
    "train = image_dataset.take(train_size)\n",
    "val = image_dataset.skip(train_size).take(val_size)\n",
    "test = image_dataset.skip(train_size + val_size).take(test_size)"
   ]
  },
  {
   "cell_type": "code",
   "execution_count": 13,
   "metadata": {},
   "outputs": [
    {
     "name": "stdout",
     "output_type": "stream",
     "text": [
      "(32, 32, 32, 3)\n"
     ]
    }
   ],
   "source": [
    "print(train.as_numpy_iterator().next()[0].shape)"
   ]
  },
  {
   "cell_type": "code",
   "execution_count": 64,
   "metadata": {},
   "outputs": [],
   "source": [
    "from tensorflow.keras.models import Sequential\n",
    "from tensorflow.keras.layers import Conv2D, MaxPooling2D, Flatten, Dense"
   ]
  },
  {
   "cell_type": "code",
   "execution_count": 15,
   "metadata": {},
   "outputs": [
    {
     "ename": "NameError",
     "evalue": "name 'Sequential' is not defined",
     "output_type": "error",
     "traceback": [
      "\u001b[1;31m---------------------------------------------------------------------------\u001b[0m",
      "\u001b[1;31mNameError\u001b[0m                                 Traceback (most recent call last)",
      "Cell \u001b[1;32mIn[15], line 1\u001b[0m\n\u001b[1;32m----> 1\u001b[0m model \u001b[38;5;241m=\u001b[39m \u001b[43mSequential\u001b[49m()\n",
      "\u001b[1;31mNameError\u001b[0m: name 'Sequential' is not defined"
     ]
    }
   ],
   "source": [
    "model = Sequential()"
   ]
  },
  {
   "cell_type": "code",
   "execution_count": 84,
   "metadata": {},
   "outputs": [
    {
     "name": "stderr",
     "output_type": "stream",
     "text": [
      "c:\\Users\\91824\\AppData\\Local\\Programs\\Python\\Python311\\Lib\\site-packages\\keras\\src\\layers\\convolutional\\base_conv.py:99: UserWarning: Do not pass an `input_shape`/`input_dim` argument to a layer. When using Sequential models, prefer using an `Input(shape)` object as the first layer in the model instead.\n",
      "  super().__init__(\n"
     ]
    }
   ],
   "source": [
    "model = Sequential()\n",
    "#First Convolutional layer\n",
    "model.add(Conv2D(filters = 56,kernel_size = (3,3), activation = 'relu', input_shape=(32, 32, 3)))\n",
    "model.add(MaxPooling2D((2, 2)))\n",
    "\n",
    "#second Convolutional layer\n",
    "model.add(Conv2D(32,(3,3),activation = 'relu'))\n",
    "model.add(MaxPooling2D(pool_size = (2,2)))\n",
    "\n",
    "model.add(Flatten())\n",
    "\n",
    "#Hidden Layer\n",
    "model.add(Dense(units = 64, activation = 'relu'))\n",
    "\n",
    "#Output Layer\n",
    "model.add(Dense(units = 111 , activation = 'softmax'))"
   ]
  },
  {
   "cell_type": "code",
   "execution_count": 85,
   "metadata": {},
   "outputs": [],
   "source": [
    "model.compile(optimizer = 'adam', loss = 'categorical_crossentropy', metrics = ['categorical_accuracy','accuracy'])"
   ]
  },
  {
   "cell_type": "code",
   "execution_count": 86,
   "metadata": {},
   "outputs": [
    {
     "data": {
      "text/html": [
       "<pre style=\"white-space:pre;overflow-x:auto;line-height:normal;font-family:Menlo,'DejaVu Sans Mono',consolas,'Courier New',monospace\"><span style=\"font-weight: bold\">Model: \"sequential_3\"</span>\n",
       "</pre>\n"
      ],
      "text/plain": [
       "\u001b[1mModel: \"sequential_3\"\u001b[0m\n"
      ]
     },
     "metadata": {},
     "output_type": "display_data"
    },
    {
     "data": {
      "text/html": [
       "<pre style=\"white-space:pre;overflow-x:auto;line-height:normal;font-family:Menlo,'DejaVu Sans Mono',consolas,'Courier New',monospace\">┏━━━━━━━━━━━━━━━━━━━━━━━━━━━━━━━━━┳━━━━━━━━━━━━━━━━━━━━━━━━┳━━━━━━━━━━━━━━━┓\n",
       "┃<span style=\"font-weight: bold\"> Layer (type)                    </span>┃<span style=\"font-weight: bold\"> Output Shape           </span>┃<span style=\"font-weight: bold\">       Param # </span>┃\n",
       "┡━━━━━━━━━━━━━━━━━━━━━━━━━━━━━━━━━╇━━━━━━━━━━━━━━━━━━━━━━━━╇━━━━━━━━━━━━━━━┩\n",
       "│ conv2d_10 (<span style=\"color: #0087ff; text-decoration-color: #0087ff\">Conv2D</span>)              │ (<span style=\"color: #00d7ff; text-decoration-color: #00d7ff\">None</span>, <span style=\"color: #00af00; text-decoration-color: #00af00\">30</span>, <span style=\"color: #00af00; text-decoration-color: #00af00\">30</span>, <span style=\"color: #00af00; text-decoration-color: #00af00\">56</span>)     │         <span style=\"color: #00af00; text-decoration-color: #00af00\">1,568</span> │\n",
       "├─────────────────────────────────┼────────────────────────┼───────────────┤\n",
       "│ max_pooling2d_6 (<span style=\"color: #0087ff; text-decoration-color: #0087ff\">MaxPooling2D</span>)  │ (<span style=\"color: #00d7ff; text-decoration-color: #00d7ff\">None</span>, <span style=\"color: #00af00; text-decoration-color: #00af00\">15</span>, <span style=\"color: #00af00; text-decoration-color: #00af00\">15</span>, <span style=\"color: #00af00; text-decoration-color: #00af00\">56</span>)     │             <span style=\"color: #00af00; text-decoration-color: #00af00\">0</span> │\n",
       "├─────────────────────────────────┼────────────────────────┼───────────────┤\n",
       "│ conv2d_11 (<span style=\"color: #0087ff; text-decoration-color: #0087ff\">Conv2D</span>)              │ (<span style=\"color: #00d7ff; text-decoration-color: #00d7ff\">None</span>, <span style=\"color: #00af00; text-decoration-color: #00af00\">13</span>, <span style=\"color: #00af00; text-decoration-color: #00af00\">13</span>, <span style=\"color: #00af00; text-decoration-color: #00af00\">32</span>)     │        <span style=\"color: #00af00; text-decoration-color: #00af00\">16,160</span> │\n",
       "├─────────────────────────────────┼────────────────────────┼───────────────┤\n",
       "│ max_pooling2d_7 (<span style=\"color: #0087ff; text-decoration-color: #0087ff\">MaxPooling2D</span>)  │ (<span style=\"color: #00d7ff; text-decoration-color: #00d7ff\">None</span>, <span style=\"color: #00af00; text-decoration-color: #00af00\">6</span>, <span style=\"color: #00af00; text-decoration-color: #00af00\">6</span>, <span style=\"color: #00af00; text-decoration-color: #00af00\">32</span>)       │             <span style=\"color: #00af00; text-decoration-color: #00af00\">0</span> │\n",
       "├─────────────────────────────────┼────────────────────────┼───────────────┤\n",
       "│ flatten_3 (<span style=\"color: #0087ff; text-decoration-color: #0087ff\">Flatten</span>)             │ (<span style=\"color: #00d7ff; text-decoration-color: #00d7ff\">None</span>, <span style=\"color: #00af00; text-decoration-color: #00af00\">1152</span>)           │             <span style=\"color: #00af00; text-decoration-color: #00af00\">0</span> │\n",
       "├─────────────────────────────────┼────────────────────────┼───────────────┤\n",
       "│ dense_6 (<span style=\"color: #0087ff; text-decoration-color: #0087ff\">Dense</span>)                 │ (<span style=\"color: #00d7ff; text-decoration-color: #00d7ff\">None</span>, <span style=\"color: #00af00; text-decoration-color: #00af00\">64</span>)             │        <span style=\"color: #00af00; text-decoration-color: #00af00\">73,792</span> │\n",
       "├─────────────────────────────────┼────────────────────────┼───────────────┤\n",
       "│ dense_7 (<span style=\"color: #0087ff; text-decoration-color: #0087ff\">Dense</span>)                 │ (<span style=\"color: #00d7ff; text-decoration-color: #00d7ff\">None</span>, <span style=\"color: #00af00; text-decoration-color: #00af00\">99</span>)             │         <span style=\"color: #00af00; text-decoration-color: #00af00\">6,435</span> │\n",
       "└─────────────────────────────────┴────────────────────────┴───────────────┘\n",
       "</pre>\n"
      ],
      "text/plain": [
       "┏━━━━━━━━━━━━━━━━━━━━━━━━━━━━━━━━━┳━━━━━━━━━━━━━━━━━━━━━━━━┳━━━━━━━━━━━━━━━┓\n",
       "┃\u001b[1m \u001b[0m\u001b[1mLayer (type)                   \u001b[0m\u001b[1m \u001b[0m┃\u001b[1m \u001b[0m\u001b[1mOutput Shape          \u001b[0m\u001b[1m \u001b[0m┃\u001b[1m \u001b[0m\u001b[1m      Param #\u001b[0m\u001b[1m \u001b[0m┃\n",
       "┡━━━━━━━━━━━━━━━━━━━━━━━━━━━━━━━━━╇━━━━━━━━━━━━━━━━━━━━━━━━╇━━━━━━━━━━━━━━━┩\n",
       "│ conv2d_10 (\u001b[38;5;33mConv2D\u001b[0m)              │ (\u001b[38;5;45mNone\u001b[0m, \u001b[38;5;34m30\u001b[0m, \u001b[38;5;34m30\u001b[0m, \u001b[38;5;34m56\u001b[0m)     │         \u001b[38;5;34m1,568\u001b[0m │\n",
       "├─────────────────────────────────┼────────────────────────┼───────────────┤\n",
       "│ max_pooling2d_6 (\u001b[38;5;33mMaxPooling2D\u001b[0m)  │ (\u001b[38;5;45mNone\u001b[0m, \u001b[38;5;34m15\u001b[0m, \u001b[38;5;34m15\u001b[0m, \u001b[38;5;34m56\u001b[0m)     │             \u001b[38;5;34m0\u001b[0m │\n",
       "├─────────────────────────────────┼────────────────────────┼───────────────┤\n",
       "│ conv2d_11 (\u001b[38;5;33mConv2D\u001b[0m)              │ (\u001b[38;5;45mNone\u001b[0m, \u001b[38;5;34m13\u001b[0m, \u001b[38;5;34m13\u001b[0m, \u001b[38;5;34m32\u001b[0m)     │        \u001b[38;5;34m16,160\u001b[0m │\n",
       "├─────────────────────────────────┼────────────────────────┼───────────────┤\n",
       "│ max_pooling2d_7 (\u001b[38;5;33mMaxPooling2D\u001b[0m)  │ (\u001b[38;5;45mNone\u001b[0m, \u001b[38;5;34m6\u001b[0m, \u001b[38;5;34m6\u001b[0m, \u001b[38;5;34m32\u001b[0m)       │             \u001b[38;5;34m0\u001b[0m │\n",
       "├─────────────────────────────────┼────────────────────────┼───────────────┤\n",
       "│ flatten_3 (\u001b[38;5;33mFlatten\u001b[0m)             │ (\u001b[38;5;45mNone\u001b[0m, \u001b[38;5;34m1152\u001b[0m)           │             \u001b[38;5;34m0\u001b[0m │\n",
       "├─────────────────────────────────┼────────────────────────┼───────────────┤\n",
       "│ dense_6 (\u001b[38;5;33mDense\u001b[0m)                 │ (\u001b[38;5;45mNone\u001b[0m, \u001b[38;5;34m64\u001b[0m)             │        \u001b[38;5;34m73,792\u001b[0m │\n",
       "├─────────────────────────────────┼────────────────────────┼───────────────┤\n",
       "│ dense_7 (\u001b[38;5;33mDense\u001b[0m)                 │ (\u001b[38;5;45mNone\u001b[0m, \u001b[38;5;34m99\u001b[0m)             │         \u001b[38;5;34m6,435\u001b[0m │\n",
       "└─────────────────────────────────┴────────────────────────┴───────────────┘\n"
      ]
     },
     "metadata": {},
     "output_type": "display_data"
    },
    {
     "data": {
      "text/html": [
       "<pre style=\"white-space:pre;overflow-x:auto;line-height:normal;font-family:Menlo,'DejaVu Sans Mono',consolas,'Courier New',monospace\"><span style=\"font-weight: bold\"> Total params: </span><span style=\"color: #00af00; text-decoration-color: #00af00\">97,955</span> (382.64 KB)\n",
       "</pre>\n"
      ],
      "text/plain": [
       "\u001b[1m Total params: \u001b[0m\u001b[38;5;34m97,955\u001b[0m (382.64 KB)\n"
      ]
     },
     "metadata": {},
     "output_type": "display_data"
    },
    {
     "data": {
      "text/html": [
       "<pre style=\"white-space:pre;overflow-x:auto;line-height:normal;font-family:Menlo,'DejaVu Sans Mono',consolas,'Courier New',monospace\"><span style=\"font-weight: bold\"> Trainable params: </span><span style=\"color: #00af00; text-decoration-color: #00af00\">97,955</span> (382.64 KB)\n",
       "</pre>\n"
      ],
      "text/plain": [
       "\u001b[1m Trainable params: \u001b[0m\u001b[38;5;34m97,955\u001b[0m (382.64 KB)\n"
      ]
     },
     "metadata": {},
     "output_type": "display_data"
    },
    {
     "data": {
      "text/html": [
       "<pre style=\"white-space:pre;overflow-x:auto;line-height:normal;font-family:Menlo,'DejaVu Sans Mono',consolas,'Courier New',monospace\"><span style=\"font-weight: bold\"> Non-trainable params: </span><span style=\"color: #00af00; text-decoration-color: #00af00\">0</span> (0.00 B)\n",
       "</pre>\n"
      ],
      "text/plain": [
       "\u001b[1m Non-trainable params: \u001b[0m\u001b[38;5;34m0\u001b[0m (0.00 B)\n"
      ]
     },
     "metadata": {},
     "output_type": "display_data"
    }
   ],
   "source": [
    "model.summary()"
   ]
  },
  {
   "cell_type": "code",
   "execution_count": 83,
   "metadata": {},
   "outputs": [
    {
     "data": {
      "text/plain": [
       "array([[[[0.19607843, 0.10588235, 0.07843138],\n",
       "         [0.23137255, 0.11372549, 0.07058824],\n",
       "         [0.22352941, 0.09019608, 0.03529412],\n",
       "         ...,\n",
       "         [0.16470589, 0.09803922, 0.06666667],\n",
       "         [0.18039216, 0.10980392, 0.0627451 ],\n",
       "         [0.2627451 , 0.16862746, 0.10980392]],\n",
       "\n",
       "        [[0.19607843, 0.10588235, 0.07843138],\n",
       "         [0.19215687, 0.07450981, 0.03137255],\n",
       "         [0.33333334, 0.2       , 0.14117648],\n",
       "         ...,\n",
       "         [0.20392157, 0.12941177, 0.10196079],\n",
       "         [0.2       , 0.11372549, 0.07058824],\n",
       "         [0.2509804 , 0.15686275, 0.10196079]],\n",
       "\n",
       "        [[0.16862746, 0.07843138, 0.04705882],\n",
       "         [0.22745098, 0.10980392, 0.06666667],\n",
       "         [0.38431373, 0.2509804 , 0.1882353 ],\n",
       "         ...,\n",
       "         [0.22352941, 0.13725491, 0.11372549],\n",
       "         [0.2509804 , 0.16078432, 0.12156863],\n",
       "         [0.23529412, 0.14509805, 0.08627451]],\n",
       "\n",
       "        ...,\n",
       "\n",
       "        [[0.16862746, 0.0627451 , 0.01176471],\n",
       "         [0.18431373, 0.08235294, 0.03137255],\n",
       "         [0.2509804 , 0.14901961, 0.09803922],\n",
       "         ...,\n",
       "         [0.1254902 , 0.03529412, 0.00392157],\n",
       "         [0.19215687, 0.09411765, 0.07843138],\n",
       "         [0.15686275, 0.0627451 , 0.04705882]],\n",
       "\n",
       "        [[0.11372549, 0.02352941, 0.        ],\n",
       "         [0.13725491, 0.04705882, 0.02352941],\n",
       "         [0.18431373, 0.09411765, 0.07058824],\n",
       "         ...,\n",
       "         [0.14117648, 0.05882353, 0.03921569],\n",
       "         [0.14509805, 0.0627451 , 0.05098039],\n",
       "         [0.07843138, 0.00784314, 0.        ]],\n",
       "\n",
       "        [[0.06666667, 0.01176471, 0.        ],\n",
       "         [0.09411765, 0.02745098, 0.        ],\n",
       "         [0.1254902 , 0.05098039, 0.02352941],\n",
       "         ...,\n",
       "         [0.16078432, 0.08627451, 0.05882353],\n",
       "         [0.11372549, 0.03921569, 0.02352941],\n",
       "         [0.0627451 , 0.        , 0.        ]]],\n",
       "\n",
       "\n",
       "       [[[0.28235295, 0.32156864, 0.12156863],\n",
       "         [0.23137255, 0.2509804 , 0.16470589],\n",
       "         [0.        , 0.00392157, 0.00392157],\n",
       "         ...,\n",
       "         [0.30588236, 0.31764707, 0.37254903],\n",
       "         [0.41960785, 0.46666667, 0.5764706 ],\n",
       "         [0.39607844, 0.4627451 , 0.5019608 ]],\n",
       "\n",
       "        [[0.2784314 , 0.30980393, 0.13725491],\n",
       "         [0.19607843, 0.20784314, 0.14901961],\n",
       "         [0.        , 0.        , 0.01568628],\n",
       "         ...,\n",
       "         [0.3137255 , 0.30980393, 0.34117648],\n",
       "         [0.43529412, 0.48235294, 0.5686275 ],\n",
       "         [0.39607844, 0.4392157 , 0.50980395]],\n",
       "\n",
       "        [[0.36078432, 0.38431373, 0.18039216],\n",
       "         [0.17254902, 0.17254902, 0.09019608],\n",
       "         [0.02352941, 0.00784314, 0.        ],\n",
       "         ...,\n",
       "         [0.34117648, 0.32941177, 0.34901962],\n",
       "         [0.4627451 , 0.49411765, 0.5647059 ],\n",
       "         [0.3529412 , 0.39607844, 0.39607844]],\n",
       "\n",
       "        ...,\n",
       "\n",
       "        [[0.8784314 , 0.77254903, 0.7137255 ],\n",
       "         [0.9529412 , 0.8392157 , 0.8156863 ],\n",
       "         [0.99607843, 0.8784314 , 0.87058824],\n",
       "         ...,\n",
       "         [0.96862745, 0.83137256, 0.85882354],\n",
       "         [0.93333334, 0.8392157 , 0.84313726],\n",
       "         [0.87058824, 0.9254902 , 0.8509804 ]],\n",
       "\n",
       "        [[0.8745098 , 0.7607843 , 0.69803923],\n",
       "         [0.95686275, 0.8392157 , 0.8       ],\n",
       "         [0.99607843, 0.8745098 , 0.8627451 ],\n",
       "         ...,\n",
       "         [0.9411765 , 0.78039217, 0.78431374],\n",
       "         [0.8392157 , 0.8039216 , 0.75686276],\n",
       "         [0.81960785, 0.9764706 , 0.7764706 ]],\n",
       "\n",
       "        [[0.88235295, 0.75686276, 0.70980394],\n",
       "         [0.9254902 , 0.8117647 , 0.78431374],\n",
       "         [0.9843137 , 0.8745098 , 0.8627451 ],\n",
       "         ...,\n",
       "         [0.91764706, 0.8156863 , 0.74509805],\n",
       "         [0.77254903, 0.88235295, 0.68235296],\n",
       "         [0.75686276, 0.9764706 , 0.69803923]]],\n",
       "\n",
       "\n",
       "       [[[0.08235294, 0.14117648, 0.06666667],\n",
       "         [0.40784314, 0.41960785, 0.32941177],\n",
       "         [0.5019608 , 0.44705883, 0.3019608 ],\n",
       "         ...,\n",
       "         [0.2784314 , 0.25882354, 0.14509805],\n",
       "         [0.8862745 , 0.8156863 , 0.6666667 ],\n",
       "         [0.45882353, 0.39607844, 0.26666668]],\n",
       "\n",
       "        [[0.12156863, 0.1882353 , 0.0627451 ],\n",
       "         [0.4509804 , 0.46666667, 0.34509805],\n",
       "         [0.5372549 , 0.47843137, 0.3254902 ],\n",
       "         ...,\n",
       "         [0.22745098, 0.21176471, 0.09803922],\n",
       "         [0.5529412 , 0.48235294, 0.33333334],\n",
       "         [0.47058824, 0.37254903, 0.2509804 ]],\n",
       "\n",
       "        [[0.07450981, 0.14509805, 0.        ],\n",
       "         [0.47058824, 0.49019608, 0.34901962],\n",
       "         [0.5058824 , 0.45490196, 0.29803923],\n",
       "         ...,\n",
       "         [0.24313726, 0.21960784, 0.10980392],\n",
       "         [0.5019608 , 0.42745098, 0.28235295],\n",
       "         [0.45882353, 0.38039216, 0.28627452]],\n",
       "\n",
       "        ...,\n",
       "\n",
       "        [[0.94509804, 0.9490196 , 0.5529412 ],\n",
       "         [0.9372549 , 0.95686275, 0.58431375],\n",
       "         [0.8509804 , 0.8862745 , 0.5176471 ],\n",
       "         ...,\n",
       "         [0.1882353 , 0.3764706 , 0.01960784],\n",
       "         [0.16470589, 0.39215687, 0.10588235],\n",
       "         [0.05490196, 0.2509804 , 0.01960784]],\n",
       "\n",
       "        [[0.9372549 , 0.9490196 , 0.7137255 ],\n",
       "         [0.93333334, 0.9607843 , 0.81960785],\n",
       "         [0.88235295, 0.93333334, 0.8509804 ],\n",
       "         ...,\n",
       "         [0.22745098, 0.41568628, 0.09019608],\n",
       "         [0.3647059 , 0.54509807, 0.2627451 ],\n",
       "         [0.00784314, 0.16078432, 0.        ]],\n",
       "\n",
       "        [[0.8745098 , 0.9607843 , 0.81960785],\n",
       "         [0.6156863 , 0.72156864, 0.72156864],\n",
       "         [0.42352942, 0.58431375, 0.7607843 ],\n",
       "         ...,\n",
       "         [0.33333334, 0.48235294, 0.32941177],\n",
       "         [0.21568628, 0.28627452, 0.09411765],\n",
       "         [0.19215687, 0.27058825, 0.1254902 ]]],\n",
       "\n",
       "\n",
       "       ...,\n",
       "\n",
       "\n",
       "       [[[0.72156864, 0.827451  , 0.9019608 ],\n",
       "         [0.7058824 , 0.81960785, 0.8901961 ],\n",
       "         [0.69803923, 0.81960785, 0.8901961 ],\n",
       "         ...,\n",
       "         [0.11372549, 0.07450981, 0.10980392],\n",
       "         [0.09019608, 0.08235294, 0.13725491],\n",
       "         [0.11372549, 0.11372549, 0.19215687]],\n",
       "\n",
       "        [[0.7294118 , 0.83137256, 0.9098039 ],\n",
       "         [0.7058824 , 0.81960785, 0.8901961 ],\n",
       "         [0.7058824 , 0.83137256, 0.9019608 ],\n",
       "         ...,\n",
       "         [0.14117648, 0.10196079, 0.13725491],\n",
       "         [0.10980392, 0.10196079, 0.15686275],\n",
       "         [0.12941177, 0.1254902 , 0.20392157]],\n",
       "\n",
       "        [[0.7490196 , 0.85490197, 0.92941177],\n",
       "         [0.69411767, 0.80784315, 0.8784314 ],\n",
       "         [0.69411767, 0.81960785, 0.8901961 ],\n",
       "         ...,\n",
       "         [0.13333334, 0.09411765, 0.12941177],\n",
       "         [0.10196079, 0.09019608, 0.14509805],\n",
       "         [0.12156863, 0.12156863, 0.2       ]],\n",
       "\n",
       "        ...,\n",
       "\n",
       "        [[0.6901961 , 0.8117647 , 0.9098039 ],\n",
       "         [0.6784314 , 0.8       , 0.9137255 ],\n",
       "         [0.6666667 , 0.8039216 , 0.92156863],\n",
       "         ...,\n",
       "         [0.09803922, 0.10980392, 0.18431373],\n",
       "         [0.10980392, 0.11372549, 0.2       ],\n",
       "         [0.11764706, 0.12941177, 0.21960784]],\n",
       "\n",
       "        [[0.67058825, 0.7882353 , 0.8901961 ],\n",
       "         [0.7137255 , 0.83137256, 0.94509804],\n",
       "         [0.6313726 , 0.76862746, 0.8901961 ],\n",
       "         ...,\n",
       "         [0.09411765, 0.10588235, 0.14117648],\n",
       "         [0.10980392, 0.10196079, 0.15686275],\n",
       "         [0.10196079, 0.10980392, 0.16862746]],\n",
       "\n",
       "        [[0.6901961 , 0.79607844, 0.9137255 ],\n",
       "         [0.63529414, 0.7411765 , 0.85882354],\n",
       "         [0.56078434, 0.6627451 , 0.78431374],\n",
       "         ...,\n",
       "         [0.09019608, 0.09803922, 0.14509805],\n",
       "         [0.10588235, 0.11764706, 0.15294118],\n",
       "         [0.10980392, 0.11764706, 0.18039216]]],\n",
       "\n",
       "\n",
       "       [[[0.03529412, 0.03529412, 0.03529412],\n",
       "         [0.05882353, 0.05882353, 0.05882353],\n",
       "         [0.07450981, 0.07058824, 0.07058824],\n",
       "         ...,\n",
       "         [0.16862746, 0.08235294, 0.03921569],\n",
       "         [0.22745098, 0.17254902, 0.15294118],\n",
       "         [0.21176471, 0.16078432, 0.12941177]],\n",
       "\n",
       "        [[0.02745098, 0.02745098, 0.02745098],\n",
       "         [0.03137255, 0.03137255, 0.03137255],\n",
       "         [0.05882353, 0.05490196, 0.05490196],\n",
       "         ...,\n",
       "         [0.20784314, 0.12156863, 0.07843138],\n",
       "         [0.2901961 , 0.23137255, 0.21176471],\n",
       "         [0.23921569, 0.18431373, 0.17254902]],\n",
       "\n",
       "        [[0.02745098, 0.02745098, 0.02352941],\n",
       "         [0.02745098, 0.02745098, 0.02745098],\n",
       "         [0.05098039, 0.04705882, 0.04313726],\n",
       "         ...,\n",
       "         [0.2       , 0.11372549, 0.07058824],\n",
       "         [0.29411766, 0.23137255, 0.21176471],\n",
       "         [0.21176471, 0.16078432, 0.15686275]],\n",
       "\n",
       "        ...,\n",
       "\n",
       "        [[0.15686275, 0.13725491, 0.1254902 ],\n",
       "         [0.11372549, 0.09411765, 0.08235294],\n",
       "         [0.12156863, 0.10196079, 0.09019608],\n",
       "         ...,\n",
       "         [0.19215687, 0.13725491, 0.1254902 ],\n",
       "         [0.18039216, 0.12156863, 0.10196079],\n",
       "         [0.23529412, 0.1764706 , 0.16470589]],\n",
       "\n",
       "        [[0.09803922, 0.07843138, 0.06666667],\n",
       "         [0.08627451, 0.06666667, 0.05490196],\n",
       "         [0.06666667, 0.04705882, 0.03529412],\n",
       "         ...,\n",
       "         [0.11372549, 0.05882353, 0.04705882],\n",
       "         [0.21176471, 0.14901961, 0.12941177],\n",
       "         [0.23137255, 0.17254902, 0.16078432]],\n",
       "\n",
       "        [[0.11764706, 0.07058824, 0.07058824],\n",
       "         [0.09411765, 0.0627451 , 0.05490196],\n",
       "         [0.07450981, 0.05490196, 0.04313726],\n",
       "         ...,\n",
       "         [0.16470589, 0.12156863, 0.10588235],\n",
       "         [0.21960784, 0.1764706 , 0.16078432],\n",
       "         [0.25882354, 0.20784314, 0.1764706 ]]],\n",
       "\n",
       "\n",
       "       [[[0.3019608 , 0.22352941, 0.18431373],\n",
       "         [0.29411766, 0.20784314, 0.15294118],\n",
       "         [0.34509805, 0.24705882, 0.19215687],\n",
       "         ...,\n",
       "         [0.13333334, 0.12156863, 0.11764706],\n",
       "         [0.13725491, 0.14509805, 0.16078432],\n",
       "         [0.15294118, 0.17254902, 0.19215687]],\n",
       "\n",
       "        [[0.41960785, 0.29803923, 0.21960784],\n",
       "         [0.49019608, 0.3529412 , 0.26666668],\n",
       "         [0.5176471 , 0.37254903, 0.2784314 ],\n",
       "         ...,\n",
       "         [0.19607843, 0.12156863, 0.06666667],\n",
       "         [0.14901961, 0.12941177, 0.08235294],\n",
       "         [0.12156863, 0.12156863, 0.11372549]],\n",
       "\n",
       "        [[0.45882353, 0.34901962, 0.28235295],\n",
       "         [0.5294118 , 0.40784314, 0.32941177],\n",
       "         [0.57254905, 0.44313726, 0.3647059 ],\n",
       "         ...,\n",
       "         [0.21960784, 0.12941177, 0.07058824],\n",
       "         [0.19215687, 0.10980392, 0.07450981],\n",
       "         [0.1882353 , 0.11372549, 0.06666667]],\n",
       "\n",
       "        ...,\n",
       "\n",
       "        [[0.08235294, 0.09803922, 0.18431373],\n",
       "         [0.40784314, 0.4       , 0.54901963],\n",
       "         [0.57254905, 0.5176471 , 0.627451  ],\n",
       "         ...,\n",
       "         [0.6627451 , 0.62352943, 0.7372549 ],\n",
       "         [0.39607844, 0.41960785, 0.6156863 ],\n",
       "         [0.39607844, 0.4862745 , 0.76862746]],\n",
       "\n",
       "        [[0.2       , 0.2       , 0.32156864],\n",
       "         [0.16862746, 0.19607843, 0.32941177],\n",
       "         [0.32156864, 0.30980393, 0.5176471 ],\n",
       "         ...,\n",
       "         [0.39607844, 0.44313726, 0.6313726 ],\n",
       "         [0.43529412, 0.52156866, 0.7490196 ],\n",
       "         [0.4509804 , 0.5568628 , 0.79607844]],\n",
       "\n",
       "        [[0.27450982, 0.29803923, 0.42352942],\n",
       "         [0.18039216, 0.2       , 0.34509805],\n",
       "         [0.4862745 , 0.49019608, 0.7372549 ],\n",
       "         ...,\n",
       "         [0.16078432, 0.22352941, 0.5058824 ],\n",
       "         [0.28627452, 0.34901962, 0.65882355],\n",
       "         [0.16078432, 0.23529412, 0.5882353 ]]]], dtype=float32)"
      ]
     },
     "execution_count": 83,
     "metadata": {},
     "output_type": "execute_result"
    }
   ],
   "source": [
    "train.as_numpy_iterator().next()[0]"
   ]
  },
  {
   "cell_type": "code",
   "execution_count": 14,
   "metadata": {},
   "outputs": [
    {
     "ename": "NameError",
     "evalue": "name 'model' is not defined",
     "output_type": "error",
     "traceback": [
      "\u001b[1;31m---------------------------------------------------------------------------\u001b[0m",
      "\u001b[1;31mNameError\u001b[0m                                 Traceback (most recent call last)",
      "Cell \u001b[1;32mIn[14], line 1\u001b[0m\n\u001b[1;32m----> 1\u001b[0m hist \u001b[38;5;241m=\u001b[39m \u001b[43mmodel\u001b[49m\u001b[38;5;241m.\u001b[39mfit(train, epochs \u001b[38;5;241m=\u001b[39m \u001b[38;5;241m50\u001b[39m, steps_per_epoch \u001b[38;5;241m=\u001b[39m \u001b[38;5;241m60\u001b[39m )\n",
      "\u001b[1;31mNameError\u001b[0m: name 'model' is not defined"
     ]
    }
   ],
   "source": [
    "hist = model.fit(train, epochs = 50, steps_per_epoch = 60 )"
   ]
  },
  {
   "cell_type": "code",
   "execution_count": null,
   "metadata": {},
   "outputs": [],
   "source": []
  }
 ],
 "metadata": {
  "kernelspec": {
   "display_name": "Python 3",
   "language": "python",
   "name": "python3"
  },
  "language_info": {
   "codemirror_mode": {
    "name": "ipython",
    "version": 3
   },
   "file_extension": ".py",
   "mimetype": "text/x-python",
   "name": "python",
   "nbconvert_exporter": "python",
   "pygments_lexer": "ipython3",
   "version": "3.11.4"
  }
 },
 "nbformat": 4,
 "nbformat_minor": 2
}
